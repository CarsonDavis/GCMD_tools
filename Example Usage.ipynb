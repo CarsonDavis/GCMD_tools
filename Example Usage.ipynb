{
 "cells": [
  {
   "cell_type": "markdown",
   "metadata": {},
   "source": [
    "# How to Use the GCMD File Handler"
   ]
  },
  {
   "cell_type": "markdown",
   "metadata": {},
   "source": [
    "import the file handler"
   ]
  },
  {
   "cell_type": "code",
   "execution_count": 1,
   "metadata": {},
   "outputs": [],
   "source": [
    "from gcmd_tools import gcmdFile"
   ]
  },
  {
   "cell_type": "markdown",
   "metadata": {},
   "source": [
    "thses are the tested URLs"
   ]
  },
  {
   "cell_type": "code",
   "execution_count": 2,
   "metadata": {},
   "outputs": [],
   "source": [
    "platform_url = 'https://gcmdservices.gsfc.nasa.gov/kms/concepts/concept_scheme/platforms'\n",
    "instruments_url = 'https://gcmdservices.gsfc.nasa.gov/kms/concepts/concept_scheme/instruments'"
   ]
  },
  {
   "cell_type": "markdown",
   "metadata": {},
   "source": [
    "create a gcmdFile object with the desired rdf url"
   ]
  },
  {
   "cell_type": "code",
   "execution_count": 3,
   "metadata": {},
   "outputs": [],
   "source": [
    "instruments = gcmdFile(instruments_url)"
   ]
  },
  {
   "cell_type": "markdown",
   "metadata": {},
   "source": [
    "at this point you can save a json with instruments.save(file_path) or interact directly with the dict"
   ]
  },
  {
   "cell_type": "markdown",
   "metadata": {},
   "source": [
    "here we will list all the instrument reference names. please note that the object can be accessed like a regular python dictionary"
   ]
  },
  {
   "cell_type": "code",
   "execution_count": 4,
   "metadata": {},
   "outputs": [
    {
     "data": {
      "text/plain": [
       "dict_keys(['GTR', 'SOFIA', 'HYDRA', 'RSMS', 'TCISS', 'GYROS', 'SIR-A', 'CTD', 'GALVANOMETER', 'RING SHEAR TESTERS', 'OSS', 'BIMS', 'SRTM', 'GPS RECEIVERS', 'Magnetic/Motion Sensors', 'Solar/Space Observing Instruments', 'THEODOLITE', 'STEEL MEASURING TAPE', 'VTPR', 'CONDUCTIVITY METERS', 'NOAA PROFILER', 'OZONE SENSOR', 'CCD2 (HuanJing 1B)', 'SWIMS', 'DUST', 'SCANNING ELECTRON MICROSCOPES', 'BATSE', 'MMS FEEPS', 'SOLAR TELESCOPES', 'Spectrometers', 'ESTAR', 'TIDE GAUGES', 'BJ-1 PAN', 'MCPHA', 'TNK', 'Geoton-L1 (1)', 'POAM III', 'GNSS RECEIVER', 'SASS', 'SREM', '2DVD', 'Galileo RECEIVERS', 'IMG', 'VECTOR MAGNETOGRAPHS', 'USO', 'SPFC', 'WINDII', 'FUV', 'OCM', 'DIGITAL BEACON RECEIVER', 'CPI', 'DLH', 'VAE', 'POLSCAT', 'D3R', 'CSR', 'TBB', 'WAVES', 'VISUAL OBSERVATIONS', 'ATOVS', 'MASS SPECTROMETERS', 'HRIR Nimbus-3', 'ACOUSTIC RADAR', 'Radio Sounders', 'CURRENT METERS', 'COULOMETERS', 'ELECTROMAGNETIC GEOPROFILER', 'PROBA.CHRIS', 'Laser_RF', 'BAROMETERS', 'MSS', 'EPAC', 'Riegl LMS-Q1560', 'RED CORONAGRAPH', 'LASER SPECTROMETER', 'WHISPER', 'CEPPAD', 'OPTICAL BEACON', 'JAMI', 'ISO', 'ROCK CORERS', 'PCASP', 'VEGETATION-1', 'MMS ADP', 'EGC', 'HICO', 'GRAVIMETERS', 'SWAN', 'DAEDALUS TMS', 'AIRBORNE TRACKING SUNPHOTOMETER', 'PWI', 'WL/CR', 'POSS', 'ACCELEROMETERS', 'MULTI-SPECTRAL', 'SONAR', 'REFLECTED SOLAR SUITE', 'VISSR-METEOSAT', 'GSA', 'Accelerometers', 'VIRGO', 'GEOPHONES', 'Bowen Ratio Devices', 'SUPERCONDUCTING GRAVIMETER', 'EGG', 'PARTICLE DETECTORS', 'PALSAR', 'TUNABLE DIODE LASER', 'ABI', 'MVI', 'HiCARS1', 'SNOW MEASURING ROD', 'DOPS', 'EECA', 'HXIS', 'DRIFTING BUOYS', 'CDS', 'Soil Characteristics', 'TMI', 'LEPEDEA', 'QUADRATS', 'AVAPS', 'PASS', 'FOURIER TRANSFORM SPECTROMETERS', 'PRISM', 'FGM', 'IMU', 'SODAR', 'ATSR-2', 'UAVSAR', 'CRNC', 'AQUARIUS_RADIOMETER', 'ALI', 'Gravimeters', 'CBR', 'AETHALOMETER', 'SARR', 'RADIOMETERS', 'PIPE STRAIN METER', 'TMRS2', 'PIN DIODE', 'SACC-BLACKJACK', 'SEPICA', 'Radar', 'RBV', 'MIS', 'Galileo', 'APS GLORY', 'OCO SPECTROMETERS', 'MWRI', 'ICORDS', 'Current/Wind Meters', 'EFD', 'C-STAR', 'TIMS', 'SEM-2', 'CAPS', 'SPMAMI', 'KTC', 'PRESSURE CHAMBERS', 'TEAMS', 'SENTINEL-1 C-SAR', 'MFR', 'WBD', 'CA', 'C/P', 'THERMOMETERS', 'CC GLORY', 'CPR', 'GLORIA', 'EIS', 'Gun Detector', 'CHAMP-BLACKJACK', 'DEMERSAL TRAWL', 'FLIR', 'DMT SP2', 'RTOVS', 'COMPASSES', '4.7um Radiometer', 'LASER HYGROMETERS', 'Total Precipitation Sensor (Hotplate)', 'NOAMI', 'HiCARS2', 'OSCR', 'ROWS', 'NSCAT', 'MMS SCM', 'VHRR', 'STC', 'ERM', 'SPECTROGRAPHS', 'FLUXGATE MAGNETOMETERS', 'X-RAY TELESCOPE', 'AHI', 'NAST-MTS', 'VNIR', 'PEACE', 'CDE', 'EHAD', 'Corers', 'ALPHA-SPECTROMETERS', 'TIM', 'AVCS Nimbus-2', 'PALS', 'TIP', 'VIS', 'MWR', 'TANSO-FTS', 'USB4000 Hemi', 'CRS', 'Radar Spectrometers', 'XRT', 'FLASKS', 'HIRDLS', 'SAMI', 'SATI', 'Gauges', 'BLIP', 'Electrical Meters', 'LRGM', 'RT', 'CHN ANALYZERS', 'SWMS', 'MMS DFG', 'SOIL TEMPERATURE PROBE', 'ULEIS', 'ASPECT', 'X-SAR', 'MODIS', 'STOKES POLARIMETER', 'BONGO NETS', 'Interferometers', 'LIP', 'SBUV/2', 'GOES N-P SOUNDER', 'ALIAS', 'MARK IV INTERFEROMETER', 'MICROTOMOGRAPHY', 'DOAS', 'NOXP', 'AMSU-A', 'VIDEO CAMERA', 'Altimeters', 'Hygrometers', 'NDIR GAS ANALYZER', 'MLS', 'VTIR', 'SBT', 'ACCELEROGRAPHS', 'LACE', 'SSJ/4', 'THEOS PAN', 'AWIN', 'VISUAL CENSUS TRANSECTS', 'SUSIM', 'ACRIM III', 'EGS', 'SEM', 'TEMPERATURE PROBES', 'UV OZONE DETECTORS', 'VCEIL', 'DMS', 'DMT UHSAS', 'CIMS', 'SPRING BALANCE', 'Spectrometers/Radiometers', 'X-POW', 'SCATTEROMETERS', 'ALTIKA Altimeter', 'STRAIN METER', 'GPS CLOCKS', 'CAR', 'N-MASS', 'SAOZ', 'ACTINOMETER', 'UVI', 'AWS', 'LORAN', 'GOMOS', 'INS', 'SIRAL', '2DS', 'AERS', 'PSAP', 'EDXA', 'SUPERSTAR', 'NANSEN BOTTLES', 'CIPS', 'SLAR', 'HI-SCALE', 'CLOUD LIDAR', 'MTVZA', 'GAS CHROMATOGRAPHS', 'VISSR-GMS', 'LAT', 'SPECIFIC ION METERS', 'MIR', 'APR-2', 'WET BULB THERMOMETERS', 'MIPAS', 'SSM/T-2', 'SIM', 'SIRS', 'K1-VHRR', 'SBAS', 'CAMERA', 'MABEL', 'DENDROMETERS', 'CVI', 'CAMRA', 'FMCWR', 'RADIO TELESCOPES', 'MAG-GOESR', 'NACE', 'FLUORESCENCE MICROSCOPY', 'PR', 'SEDIMENT TRAPS', 'DIGISONDES', 'Bottles/Flasks/Jars', 'HRIR Nimbus-1', 'LASER TRACKING REFLECTOR', 'PIEZOMETERS', 'GOES-11 Imager', 'MASS', 'PAN ANALYZER', 'SXM-2', 'CCD IMAGER', 'GRACE SCA', 'HRR', 'OFFI', 'Photon/Optical Detectors', 'KU-BAND RADAR', 'WVSS', 'QZSS', 'DIHM', 'IRS (CBERS)', 'NO2 LIF', 'EB SPECTROMETER', 'ATSR', 'GONG NETWORK', 'DPG', 'UMKEHR OBSERVATIONS', 'SSB/O', 'FSI', 'LISS-III', 'AEM', 'CCD2 (HuanJing 1A)', 'OTD', 'RPI', 'TIR', 'MMRS', 'Thermistors', 'GROUND WATER LEVEL GAUGES', 'WIFS', 'NPOL', 'GOES-15 Imager', 'CATS', 'WISE', 'RL', 'ACM', 'GC-MS', 'TRANSPONDERS', 'TOGA RADAR', 'MOPITT', 'Chemical Meters/Analyzers', 'MMR', 'JW DISDROMETER', 'HRV', 'AMMR', 'PAS', 'MS-THEOS', 'LA-ICP-MS', 'LAC', 'TSI CPC-3025', 'LOPC-PMS', 'ALPS', 'UAF Profiler', 'SATELLITE RADIO BEACON', 'SPECTROPHOTOMETERS', 'MSPI', 'CIS', 'MRR', 'SOT', 'AVCS Nimbus-1', 'MSS_RS', 'GEOS-3 ALTIMETER', 'OZONESONDES', 'SCINTILLATION COUNTERS', 'SDTA', 'XSV', 'Profilers/Sounders', 'ACORDS', 'XRD', 'GNSS', 'MFE-P', 'ZLS', 'NUCLEAR PRECESSION MAGNETOMETER', 'ELECTRIC FIELD MILL', 'AOLFL', 'FIA', 'AIRGUN ARRAYS', 'NS-001 TMS', 'DOBSON SPECTROPHOTOMETERS', 'QZSS P', 'AHF', 'OAMI', 'ELASTIC BACKSCATTER LIDAR', 'Beidou', 'RRS', 'MRM', 'MMCR', 'LYMAN-ALPHA PHOTOMETER', 'CLAES', 'TLPCS', 'LIS', 'LPM', 'Magnetic Field/Electric Field Instruments', 'WCMS', 'PLANT STRESS MONITOR', 'SSMIS', 'ALT (SEASAT 1)', 'CIN', 'Data Analysis', 'GRB', 'PSYCHROMETERS', 'Lidar/Laser Spectrometers', 'SSU', 'MBES', 'HRCCD', 'SONIC ANEMOMETER', 'FPH', 'NETS', 'WATER LEVEL GAUGES', 'SPEA', 'MESA', 'Seismometers', 'HYPSOMETERS', 'PIP', 'ESUM', 'KBR', 'DWP', 'CORING DEVICES', 'OLS', 'TIROS-N', 'GPS', 'SIPS', 'HPGE', 'GNSS-RO RECEIVER', 'STAFF', 'TULLGREN FUNNEL', 'VPR', 'SCR', 'C-SCAT', 'PHASE CONTRAST MICROSCOPES', 'PRS Altimeter', 'MLA', 'HRC', 'SUN PHOTOMETERS', 'VIRIS', 'RO', 'TRAPS', 'CPA', 'LRR', 'KNOLLENBERG PROBE', 'EPSONDE', 'IKFS', 'COSSIR', 'AOCI', 'TUCKER TRAWLS', 'QUARTZ CRYSTAL THERMOMETER', 'SSALT', 'SCOR WP-2 ZOOPLANKTON NET', 'MICROBAROGRAPHS', 'UVCS', 'SSI/ES', 'PRESSURE TRANSDUCERS', 'THERMOSALINOGRAPHS', 'GBMR', 'SIR-C', 'LASERS', 'CFDC', 'ETM+', 'PLANKTON NETS', 'RADIO BURST RECEIVERS', 'IRNSS', 'MADRAS', 'BENTHOPELAGIC TRAWL', 'CRWVA', 'IME', 'NEUTRON MONITORS', 'EPIC', 'UAF GPS/IMU', 'GLI', 'Passive Remote Sensing', 'LVIS-Camera', 'USIM', 'SOFIE', 'ADRAD', '1DP', 'COSPEC', 'GOES-16 Imager', 'NOT APPLICABLE', 'ELDORA', 'SOON SOLAR TELESCOPES', 'TES', 'BROADBEAM RIOMETERS', 'SSFR', 'ROCKETSONDES', 'FAN-ASPIRATED RADIATION SHIELD', 'TELEMETER', 'CERES-FM1', 'IRMSS', 'PASSIVE IONOSPHERIC MONITOR', 'SOLAR UV SPECTROMETERS', 'DACOM', 'GOES I-M Imager', 'NOAA-O3', 'CLS', 'SOUP', 'Thermal/Radiation Detectors', 'TEOM', 'OMEGASONDE', 'ADS', 'SSI/ES2', 'SIRIS', 'GFE-3R DOSIMETER', 'OPTSPEC', 'SOIL HEAT PROBE', 'HFOVR', 'Scatterometers', '3DA', 'IDCS Nimbus-3', 'GPR', 'IMPACT', 'ACRIM', 'GLAS', 'AVNIR', 'PANMUX', 'PIXIE', 'AVIRIS-NG', 'Geoton-L1 (2)', 'WET DEPOSITION COLLECTORS', 'TIRS', 'HAMSR', 'TOC', 'SEE', 'HRG-1', 'Sky View Camera', 'GLONASS P', 'Positioning/Navigation', 'PASSIVE OPTICAL TRACKING', 'STRAIN GAUGE WHEATSTONE BRIDGE', 'CZCS', 'THIR', 'INSAT-3D SOUNDER', 'SAFS', 'GLONASS', 'NORPAC ZOOPLANKTON NET', 'MCoRDS', 'USB4000 Tele', 'CrIS', 'OSA', 'MERCURY ANALYZERS', 'DROPWINDSONDES', 'LLLTV', 'Radiometers', 'PETROGRAPHIC MICROSCOPES', 'TNR', 'LENA', 'VISSR', 'NMLR', 'PH METERS', 'SOSUS', 'MIPS-EFM', 'Beidou P', 'UTIG RTNav', 'SUVI-GOESR', 'OTTER TRAWL', 'APT Nimbus-1', 'EPE', 'UTIG GPS', 'COSMIR', '3DP', 'PTR-MS', 'LICOR INTEGRATING SPHERE', 'POAM II', 'AEROSOL/CLOUD PARTICLE SIZER', 'GOME-2', 'NOAA-H2O', 'AURORAL SPECTROGRAPH', 'SNOW DENSITY CUTTER', 'TOTCAP', 'CCD1 (HuanJing 1A)', 'FCAS', 'Particle Detectors', 'AIRGrav', 'PES', 'ASC', 'COSPIN', 'AVHRR-2', 'Earth Remote Sensing Instruments', 'TOMS', 'GOES N-P Imager', 'ICP-MS', 'UTIG Riegl', 'AMMS', 'CERES SCANNER', 'LIMS', 'MST', 'CPL', 'WFC', 'BIONESS', 'CRIMSS', 'UV SPECTROMETER', 'SPOL', 'RASS', 'CAMBOT', 'HUPCRS', 'HEP', 'LIDAR ALTIMETERS', 'MTSAT 1R Imager', 'GEOSAR', 'WATS', 'Pyrometers', 'VIRS', 'AIRSAR', 'Visibility Sensor', 'TUBBS TOWS', 'MPL', 'K-LINE CCD/SOLAR OSCILLATIONS', 'OLCI', 'SECCHI', 'BSR', 'POLAR-EFI', 'TSI CPC-3010', 'ACATS', 'XRF', 'LYMAN-ALPHA HYGROMETER', 'SIS', 'LYSIMETERS', 'HPLC', 'SOLCON', 'INCLINOMETERS', 'HVPS', 'SUNSHINE RECORDERS', 'SOPA', 'FCAS II', 'ELECTROMAGNETIC DIRECTION METER', 'DF', 'THEOS MS', 'DENSIOMETERS', 'OZONE DETECTORS', 'GPSP', 'GAMMA RAY SPECTROMETERS', 'IONIZATION CHAMBER', 'PEM', 'DROPSONDES', 'CRIS', 'ULYSSES-FGM', 'Cameras', 'SEISS-GOESR', 'AES', 'ADG', 'COLORIMETERS', 'SLRAR', 'GRAS', 'RAIN GAUGES', 'OMI', 'SLIM-6', 'VLF RECEIVERS', 'WELL LOGGING TOOLS', 'HAMI', 'IRNSS RECEIVERS', 'AEROSOL COLLECTORS', 'CPME', 'SXM', 'SHRIMP', 'OMPS', 'RPA', 'ICP-AES', 'IRS (HuanJing 1B)', 'PYRANOMETERS', 'UHSAS', 'SKY-RADIOMETER', 'DAWN', 'Pleiades High Resolution', 'Radar Sounders', 'NEUSTON NET', 'ELECTROFISHING', 'CNC', 'DIDM', 'PORTOS', 'WSI', 'SNOW RADAR', 'MTSAT 2 Imager', 'RADAR', 'SMMR', 'HRTS', 'WAVE HEIGHT GAUGES', 'BRLK', 'TRACE IMAGING TELESCOPE', 'OPTICAL TELESCOPES', 'MISR', 'SBI', 'GO-FLO BOTTLES', 'MAM', 'Grabbers/Traps/Collectors', 'ALTUS DATA COLLECTION SYSTEM', 'BOPS', 'OVM', 'OCM-2', 'SURVEYING TOOLS', 'LIDAR', 'WFI (CBERS 3,4)', '2.4um Radiometer', 'IRS', 'UAF Scanner', 'ERNE', 'SLSTR', 'PCD', 'MASP', 'IRIS', 'SHMSA-VR', 'GOES-13 Imager', 'PRT', 'DFGAS', 'GRANULOMETRIC SIEVES', 'PR-2', 'AMSR-E', 'HXRBS', 'UVNO', 'PERMEAMETERS', 'HEPAD', 'Telescopes', 'SLAP', 'SARSAT', 'SSB/X2', 'Radio', 'PDS', 'WINDSAT', 'TSI-3562 Nephelometer', 'LICOR LEAF AREA METER', 'SEAWIFS', 'TDDR', 'SCHOLANDER PRESSURE CHAMBER', 'SAPHIR', 'WET/DRY PRECIPITATION SAMPLERS', 'MOMS-01', 'FLOW CYTOMETRY', 'INTERFEROMETERS', 'GRAVITY CORER', 'SCIAMACHY', 'MMS SDP', 'PES (SSJ/3)', 'Samplers', 'PENETROMETERS', 'LISS-IV', 'MOMS-02', 'PITOT-STATIC SYSTEM', 'AIMR', 'AQUARIUS_SCATTEROMETER', 'IDM', 'ACE-FTS', 'MULTIFILTER RADIOMETER', 'THEMIS-ESA', 'AUTOANALYZER', 'CCD (CBERS 1)', 'HVAS', 'GOCI', 'PYRHELIOMETERS', 'MENA', 'MFI', 'MESSR', 'MSU-MR', 'CO2 ANALYZERS', 'RADAR ECHO SOUNDERS', 'CPC', 'HRIR Nimbus-2', 'GAS CORRELATION FILTERS', 'PYRGEOMETERS', 'LRA', 'Lidar/Laser Sounders', 'IFSAR', 'ERB', 'RAPID', 'GMI', 'MVIRI', 'TIMAX', 'BALANCE', 'ROSEMOUNT ICING DETECTOR', '3D-IMAGER', 'ILAS II', 'BJ-1 MSI', 'DIFLUX MAGNETOMETERS', 'PRESSURE GAUGES', 'APT Nimbus-2', 'ERB-SCANNER', 'ACOUSTIC SOUNDERS', 'GAS SENSORS', 'MC-ICP-MS', 'ROCK-EVAL IV', 'EFW', 'SSM', 'BACKSCATTER LIDAR', 'PHOTOMETERS', 'WAC', 'SMM-HXIS', 'Line intercept sampling', 'CERES-FM2', 'EDI', 'HRPC', 'CLOUD TOP SPECTROMETER', 'NEAR-INFRARED SPECTROMETER', 'ASPOC', 'GPS SONDE', 'Imaging Radars', 'Galileo P', 'APS', 'CELIAS', 'HIS', 'VAS', 'SEDIMENT METERS', 'AVNIR-2', 'SAGE I', 'Radiation Sensors', 'OPTICAL TRACKING', 'TIDI', 'FLAME-IONIZATION DETECTOR', 'POSEIDON-3', 'GRACE ACC', 'Thermometers', 'ADMIRARI', 'NAVREC', 'SCM', 'SAGE II', 'CERES-FM5', 'GONG INSTRUMENT', 'OZONE MONITORS', 'AMPR', 'AWIFS', 'RDEFM', 'FD12P WEATHER SENSOR', 'CUFES', 'CG4', 'SOIL MOISTURE PROBE', 'HALOE', 'SOUNDERS', 'CLOCKS', 'CALIOP', 'AVHRR-3', 'SAMS', 'RSP', 'ASIRAS', 'ATMOS', 'CASI', 'PVI', 'MWTS', 'HYGROMETERS', 'UE', 'GUVI', 'HIRAD', 'HSRL', 'HYDROPHONES', 'PMS 2D-S PROBE', 'PMS 2D-P PROBE', 'AMSU-B', 'Spectroradiometers', 'SSBUV', 'AEROSOL MONITOR', 'TCTE', 'SBUS', 'HRIR', 'PISTON SAMPLERS', 'BLACKJACK', 'MIRAS', 'QZSS RECEIVERS', 'CMT', 'ARP', 'CHEMILUMINESCENCE', 'POLDER-2', 'GLS', 'WIND VANES', 'OPTICAL DUST LOGGERS', 'MEPAD', 'AMPTE/IRM MAGNETOMETER', 'STEP FREQUENCY RADIOMETERS', 'Computer', 'ASAR', 'OMPS-N', 'HRG-2', 'DIELECTRIC PROBE', 'GOES-8 Imager', 'PROBES', 'AMSR2', 'Radar Altimeters', 'BATHYTHERMOGRAPHS', 'EMIS', 'GSD', 'SPECTRORADIOMETERS', 'IASI', 'Laser Ranging', 'Imaging Spectrometers/Radiometers', 'PSS', 'BENTHIC GRABS', 'LFC', 'HYPERION', 'EIT', 'LIQUID CHROMATOGRAPHS', 'TOVS', 'GOLF', 'MSIR', 'SILICON PHOTODIODES', 'EUV SPECTROMETER', 'PRESSURE JUMP DETECTOR', 'DREDGING DEVICES', 'PMS 2D-C PROBE', 'Infrared Pyrometers', 'CF', 'AWQT', 'AIS', 'PAM', 'SOLARIMETERS', 'GEK', 'KEMMERER SAMPLER', 'LONG STREAMERS', 'CPI PROBES', 'RA', 'HESSI SPECTROMETER', 'BBSS', 'GRAB SAMPLERS', 'MAGNAPROBE', 'XRP', 'MICROSCOPES', 'MTQ', 'ION MICROPROBES', 'IMAGING RADAR SYSTEMS', 'AMR', 'ATMS', 'SOIL DEPTH PROBE', 'ACS', 'TIDE', 'ECHO SOUNDERS', 'PRESSURE PROBE', 'TSI', 'STREAM GAUGES', 'POSSSUM', 'DORIS', 'RWP50', 'PARIS', 'PWI-P', 'MMS EIS', 'SOLSPEC', 'QUICKBIRD/BHRC-60', 'ENLS', 'KONUS', 'CLASS', 'CEDAR IMAGER', 'VOPC', 'XPOL', 'FPS', 'EDI-E', 'PMS', 'ELECTRONATORS', 'MACS', 'GOES I-M SOUNDER', 'PYROMETERS', 'SWE', 'GOME', 'MR', 'STS', 'SUNFLECK CEPTOMETER', 'COSTEP', 'CASI-1500', 'Probes', 'STILLING WELL', 'HYSI-T', 'MRIR NIMBUS-3', 'MFE', 'TMS', 'PALMS', 'EXRAD', 'CERES-PFM', 'SOIL PRESSURE PLATE', 'FIELD SCOPE', 'FLUORESCENCE SPECTROSCOPY', 'PAR SENSORS', 'MEIS', 'Thermocouples', 'SAR', 'RA-2', 'BEDLOAD SENSORS', 'ARGUS', 'SCAMS', 'MTP', 'THEMIS-SST', 'LBLSC', 'EPI', 'HRS', 'HIWRAP', 'OCPS', 'OPC', 'CCD (CBERS 2B)', 'GAMMA RADIATION DETECTOR', 'SOLSTICE', 'SSJ', 'XBT', 'REIS', 'LISS-II', 'TELESCOPES', 'IPU', 'HRTC', 'IRMS', 'ESMR', 'SNOW TUBE', 'MAPIR', 'AIRS', 'HESSI IMAGER', 'CPFM', 'MULTICHANNEL FILTER RADIOMETERS', 'PYRRADIOMETERS', 'BUV', 'NET RADIOMETERS', 'FTIR SPECTROMETER', 'LVIS', 'TEMPERATURE LOGGERS', 'DOPPLER BEACONS', 'Ceptometers', 'TEMPERATURE SENSORS', 'SEISMOMETERS', 'RIOMETER', 'ISAMS', 'ALT (TOPEX)', 'RAWINSONDES', 'LT (SEASAT 1)', 'Beidou RECEIVERS', 'MMS', 'SKIYMET', 'APR-3', 'IIR', 'ORG', 'AIRCRAFT MOTION SENSOR', 'MSBSP', 'SONOBUOYS', 'SEM-N', 'SIR-B', 'MRIR NIMBUS-2', 'DTG', 'GRACE INTERFEROMETER', 'SIGMA SPACE LIDAR', 'PAN', 'SMPS', 'HIRS/4', 'THEOS MSI', 'SAW', 'PALSAR-2', 'NEUTRON PROBE', 'HATDL', 'INCOHERENT SCATTER RADAR', 'DPR', 'CINDI', 'NASA POS/AV', 'LAND SUBSIDENCE GAUGES', 'HIRS/3', 'MULTILENS CAMERAS', 'MHS', 'INFRARED RADIOMETERS', 'RTMM', 'SWIR', 'VLBI', 'ION CHROMATOGRAPHS', 'THEMIS-EFI', 'IceCube', 'ACOUSTIC RECEIVERS', 'SSD', 'GC-ECD', 'PROTON MAGNETOMETER', 'CERES-FM4', 'GOES-12 Imager', 'SXP', 'Instruments', 'PHOTOSYNTHESIS CHAMBER', 'MSP', 'MAGNETOGRAPHS', 'HUMIDITY SENSORS', 'TURBIDITY METERS', 'APU', 'DRY DEPOSITION COLLECTORS', 'ATLAS', 'NEXRAD', 'EDAX', 'VIRL', 'CEP', 'SFERICS DETECTOR', 'ALAE', 'CAMERAS', 'HMI-SDO', 'CARBON ANALYZERS', 'CONUS-Soil', 'INFRARED THERMOMETERS', 'ICECUBE', 'CERES-FM3', 'HVPS-3', 'EXIS-EUVS-GOESR', 'Acoustic Sounders', 'GFC RADIOMETER', 'NISTAR', 'MOS', 'EPACT', 'Conductivity Sensors', 'Ultraviolet Instruments', 'ILAS', 'Pressure/Height Meters', 'SMS', 'PHOTOSYNTHETRON', 'CAPAC', 'GOLD', 'MDI', 'ROTENONE STATIONS', 'UCATS-GC', 'FISH NETS', 'NISKIN BOTTLES', 'Accumulation Radar', 'POLDER-3', 'Charged Coupled Devices', 'AGASSIZ TRAWL', 'BR', 'ARGOS', 'MAGNETO OPTICAL FILTER', 'BF', 'MACAWS', 'BOLOMETERS', 'KT19 Pyrometer', 'PILS/IC', 'UVSP', 'AVOCET', 'CHNS/O ELEMENTAL ANALYZERS', 'SOLAR SIMULATORS', 'SAGE III', 'EDOP', 'SEAWINDS', 'OPS', 'MAMS', 'FIRSC', 'SSI/E', 'PSS_RS', 'WWS', 'CCD LINEAR ARRAY', 'Temperature/Humidity Sensors', 'GC-FID', 'DIGITIZER', 'Hypsometers', 'MBLA', 'SLR', 'AERI', 'MAPS', 'MOBLAS', 'CAMMICE', 'MMS FPI', 'MCRDS', 'RWP915', 'BBHSR', 'MAG', 'GLONASS RECEIVERS', 'CCD1 (HuanJing 1B)', 'Visible/Infrared Instruments', 'GRACE LRR', 'Pyrgeometer', 'EPAM', 'GERB', 'DIAL', 'SHMSA-SR', 'SWEPAM', 'TENSION INFILTROMETER', 'SPACE RADIATION DOSIMETER', 'PTT', 'TM', 'SOMMA', 'MSBS', 'ICATS', 'HYGROTHERMOGRAPHS', 'NAST-M', 'OBDH', 'AIRMSPI', 'SEVIRI', 'UVIC', 'SIDE-SCAN SONAR', 'CPI-G', 'LEP', 'VEGETATION-2', 'CS-3', 'TMR', 'PLA', 'SEC', 'HIRS/2', 'MINARAD RST-10', 'ATM', 'VISIBLE SPECTROMETER', 'SABER', 'MUXCAM', 'CLINOMETERS', 'PYRANOGRAPHS', 'IRFS-2', 'TRAWL', 'NEPHELOMETERS', 'MMS EDI', 'TOU', 'SWAVES', 'SBAS RECEIVERS', 'SCS', 'BENTHOPELAGIC NET', 'AIRGLOW/AURORA IMAGER', 'TEMPERATURE PROFILERS', 'CMG-GT-1A', 'MAS/ATLAS', 'COBAN', 'TED', 'SSM/I', 'SECCHI DISKS', 'ICI', 'ELECTROSTATIC ANALYZERS', 'EPM', 'GPS/IMU', 'GUST PROBES', 'AMI', 'MIMS', 'RADIOSONDES', 'ASTER', 'Hydrometers', 'RAD GAUGE', 'DISDROMETERS', 'BATHYPHOTOMETER', 'Active Remote Sensing', 'MICHELSON INTERFEROMETER', 'VERTICAL POINTING RADAR', 'AIRMISR', 'GAMMA RAY DETECTOR (SSB)', 'MOCNESS', 'MX-T', 'WAS', 'INFRARED LASER SPECTROSCOPY', 'PROFILERS', 'MWHS', 'ADCP', 'TGRS', 'HUMIDITY TRANSDUCERS', 'WCR', 'BOTTOM TRAWL', 'SWICS-U', 'DA', 'PARABOLA', 'ELECTROMETER', 'OCE', 'VHM', 'NFOVR', 'LISS-I', 'IONIZATION PRESSURE GAUGES', 'DC8 DROPSONDES', 'IKAR', 'IMAGING RIOMETERS', 'LASER REFLECTOR', 'AMSR', '2DC', 'MAGVAR', 'FCDP', 'TDR', 'HCMR', 'Hyperspectral Spectrometers/Radiometers', 'MSU-GS', 'IRGA', 'ARMAR', 'ANEMOMETERS', 'GOES-10 Imager', 'LAP-3000', 'ANEROID PRESSURE SENSOR', 'HRVIR', 'DIFFERENTIAL MOBILITY ANALYZERS', 'ERS WIND SCATTEROMETER', 'ACRIM II', 'VOLTAGE METERS', 'GRILLE', 'TIMAS', 'MERSI', 'PRARE', 'DOW', 'HAMSTRAD', 'IDCS Nimbus-4', 'OSMOMETERS', 'HARD X-RAY MONITOR', 'ICP-ES', 'GME', 'X-Ray/Gamma Ray Detectors', 'RTD', 'LICOR QUANTUM SENSOR', 'SFM', 'ERBE WFOV Nonscanner', 'POLDER', 'SSTI', 'SEDIMENT CORERS', 'AA', 'THERMISTORS', 'SSCC', 'AVIRIS', 'TRETYAKOV GAUGE', 'ISS', 'SMAP L-BAND RADAR', 'MSS AFG', 'EXIS-XRS-GOESR', 'BGO', 'Tensiometer', 'BOX CORE', 'ICE AUGERS', 'PARTICLE SPECTROMETERS', 'VLA', 'A-DCS', 'EQUILIBRATORS', 'Radio Wave Detectors', 'SNOWPACK TEMPERATURE PROBE', 'SSH-2', 'AP', 'INCUBATOR', 'UPWARD LOOKING SONAR', 'FRRF', 'SEPS', 'Composition Analyzer', 'MONOCHROMATORS', 'MSR', 'ASAS', 'UVS', 'EVE-SDO', 'MSU-SK', 'EUVS', 'SEISMIC REFLECTION PROFILERS', 'BCS', 'LASER TRACKING SITE', 'OWEN TUBE', 'CFA', 'W-Band Radar', 'SIMS', 'SEISMOGRAPHS', 'VIIRS', 'HAIRS', 'PXRI', 'RBI', 'VIRR', 'MAGNETOMETERS', 'ASUR', 'Environmental Modeling', 'AEROVANES', 'MFR/SSH', 'MWA', 'AAS', 'PLASTIC', 'AIA-SDO', 'IRNSS P', 'ULTRASONIC DEPTH GAUGE', 'TRANSPARENCY METER', 'MSU-E', 'THEMIS-FGM', 'MFRSR', 'POROMETER', 'TANSO-CAI', 'MSU', 'UTIG IMU', 'AATSR', 'HSB', 'IRAS', 'FPI', 'HELIOGRAPHS', 'CXRI', 'Tally Counter', 'RAMS', 'SCARAB', 'AMS', 'UCN', 'ERBE', 'INFRARED INSTRUMENT SUITE', 'Passive Acoustic Recorder', 'ADA', 'SSB/X', 'SBAS P', 'NEVZOROV PROBE', 'KMSS', 'IR CO2 ANALYZER', 'MBT', 'TRANSMISSOMETERS', 'TEM', 'SSIES', 'LLS', 'DRY BULB THERMOMETERS', 'WBS', 'AVHRR', 'SXI', 'IONOSONDE', 'CDP', 'SLS', 'RF ANTENNA', 'BA', 'STRIPPING VOLTAMMETRY', 'LASCO', 'WIND MONITOR', 'OLI', 'THR', 'CORONAGRAPHS', 'FLUOROMETERS', 'S-HIS', 'TD-LIF', 'SSC', 'SWICS', 'LPSP', 'TLRS', 'BINOCULAR', 'STD', 'SDPTR', 'FSSP', 'SFD', 'SOIL HEAT FLUX TRANSDUCER', 'AIMMS-30', 'DOPPLER RADAR', 'AEPI', 'AIRGLOW SENSOR', 'SCANFISH', 'IES', 'AIR-ION', 'INFRASONIC MICROPHONES', 'Recorders/Loggers', 'FILTERABLE DEPOSIT JAR SAMPLER', 'GLM', 'Lidar/Laser Altimeters', 'BRTS', 'Trawls/Nets', 'POLDER-1', 'NAST-I', 'C-SAR', 'BOTTOM PRESSURE GAUGES', 'ACOUSTIC TAGS', 'SALINOMETERS', 'AIR PERMEAMETERS', 'VIL', 'HIRS', 'SNOW FORKS', 'LVIS-GH', 'Pressure Altimeters', 'CO2NDIR', 'WIND PROFILERS', 'PMS KING PROBE', 'MOP VIS/IR', 'CBERS', 'HRDI', 'GILLNETS', 'SSM/T', 'URAP', 'POSEIDON-2', 'P-SYSTEM', 'XCP', 'TETHERSONDES', 'PSR', 'ACFA', 'PIV', 'SUMER', 'POLARIMETERS', 'MAESTRO', 'XPS', 'LICOR GAS EXCHANGE SYSTEM', 'PTGA', 'AN', 'ICE CORE MELTER', 'GEOMET 823A', 'MUON COSMIC RAY DETECTORS', 'SBUV', 'SCR-HF', 'DMR', 'AF', 'CCD (CBERS 2)', 'GREEN CORONAGRAPH', 'BIOMETER', 'ROSEMOUNT PROBES', 'Schmidt-Cassegrain Telescope', 'LASE', 'XRPD', 'GC-TCD', 'ASCAT', 'WFI (CBERS 1,2)', 'EDDY CORRELATION DEVICES', 'RADAR ALTIMETERS', 'Photometers', 'MIDWATER TRAWLS', 'GHIS', 'STICS', 'APMS', 'LICOR SOIL GAS CHAMBER', 'SSULI', 'HENA', 'DADS', 'GERDIEN CONDUCTIVITY PROBE', 'SOIL SAMPLER', 'HXT', 'OZONEMETERS', 'RADIO TRANSPONDERS', 'SMP', 'DORIS GROUND STATION BEACON', 'Hydrothermographs', 'JASON-1 Microwave Radiometer', 'WATER BOTTLES', 'SXT', 'CloudSat-CPR', 'RIS', 'GWLG', 'SR', 'MIMR', 'ALTIMETERS', 'SSB/S', 'SWOOPS', 'ATHOS', 'NATE', 'HYDROMETERS', 'SCA', 'MERIS', 'IMAGING RADIOMETERS', 'IRIS-XSAT', 'CLOUD LIQUID WATER PROBE', 'ICE STRESS SENSORS', 'PRESSURE SENSORS', 'THERMOCOUPLES', 'MASPR', 'HR-2014i', 'DEWPOINT HYDROMETERS', 'OXYGEN METERS', 'JPL LASER HYGROMETERS', 'MAS', 'LEE', '4-Channel CL', 'BGM-3', 'CEILOMETERS', 'LICOR PLANT CANOPY ANALYZER', 'TSI LAS-3340', 'SMAP L-BAND RADIOMETER', 'OXYGEN ANALYZERS', 'WATERGUNS', 'WS', 'SPIN-SCAN AURORAL IMAGER', 'ELECTRON MICROPROBES', 'AIRBORNE LASER SCANNER', 'OCTS', 'In Situ/Laboratory Instruments', 'SPECTROMETERS', 'MMS HPCA', 'SPECTROHELIOGRAPHS', 'ULTRASONIC DEPTH SENSOR', 'MASC', 'GOES-14 Imager', 'CERES-FM6', 'NRA', 'AMR-2', 'POSEIDON-3B', 'JRE (CARMEN-3 + LPT)', 'CARMEN-3', 'LPT', 'ECOSTRESS', 'PHyTIR', 'AirSWOT', 'SLR Station', 'VLBI Station', 'ARI MINI CO, N2O, H2O', 'PICARRO G2401-mc CO2, CH4, CO, H2O INSTRUMENT', 'PICARRO L2130-i Flight Ready Water Vapor Isotopic Analyzer', '2.3um Radiometer', 'LGS', 'HARP', 'ALADIN', 'Star Tracker', 'HiRAIS', 'ATLID', 'BBR', 'EarthCARE CPR', 'EarthCARE MSI', 'HKTLM', 'RSI', 'GIS', 'TRSR', 'EOC', 'MSC', 'SMR', 'OSIRIS', 'HiRI', 'VGT-P', 'Sentinel-2 MSI', 'HKTM', 'Sentinel-3 MWR', 'Sentinel-3 SRAL', 'NAOMI', 'ASM', 'EFI', 'VFM', 'SLIM6-22', 'WV60', 'WV110', 'TLS', 'GroundMSPI', 'GEDI', 'SRTM C-BAND RADAR', 'KT15 Pyrometer', 'TROPOMI', 'Dart Biopsy Gun', 'AVCS', 'pRES', 'SGLI', 'KOPRI Unit', 'LADCP', 'GOES-9 Imager', 'FEGS', 'LMA'])"
      ]
     },
     "execution_count": 4,
     "metadata": {},
     "output_type": "execute_result"
    }
   ],
   "source": [
    "instruments.keys()"
   ]
  },
  {
   "cell_type": "markdown",
   "metadata": {},
   "source": [
    "access the description of a specific instrument"
   ]
  },
  {
   "cell_type": "code",
   "execution_count": 5,
   "metadata": {},
   "outputs": [
    {
     "name": "stdout",
     "output_type": "stream",
     "text": [
      "Hot Plasma Analyzer \n",
      "\n",
      "HYDRA is a plasma experimental investigation on the POLAR spacecraft. HYDRA is\n",
      "a collection of electrostatic analyzers designed for high resolution\n",
      "observations of electron and ion velocity distributions in the earth's polar\n",
      "magnetosphere and was designed and constructed by a consortium of institutions\n",
      "for the purpose of improving our understanding of the complex interactions of\n",
      "the polar magnetosphere with the solar wind and the ionosphere.\n",
      "HYDRA subsystems are:\n",
      "- Duo-Deca-Electron-Ion-Spectrometer (DDEIS)\n",
      "- Parallel Plate Analyzer (PPA)\n",
      "- Data Processing Unit (DPU) and UV Intracalibration System \n",
      "\n",
      "For more information, see: \n",
      "http://www-st.physics.uiowa.edu/\n",
      "and\n",
      "http://pwg.gsfc.nasa.gov/polar/polar_inst.shtml\n",
      "\n",
      "\n",
      "Group: Instrument_Details\n",
      "   Entry_ID: HYDRA\n",
      "   Group: Instrument_Identification\n",
      "      Instrument_Category: Solar/Space Observing Instruments\n",
      "      Instrument_Class: Particle Detectors\n",
      "      Short_Name: HYDRA\n",
      "      Long_Name: Hot Plasma Analyzer\n",
      "   End_Group\n",
      "   Group: Associated_Platforms\n",
      "      Short_Name: POLAR\n",
      "   End_Group\n",
      "   Online_Resource: http://www-st.physics.uiowa.edu/\n",
      "   Sample_Image: http://www-st.physics.uiowa.edu/www/images/ddeis2.jpg\n",
      "   Group: Instrument_Logistics\n",
      "      Instrument_Start_Date: 1996-02-24\n",
      "      Instrument_Owner: University of Iowa\n",
      "   End_Group\n",
      "End_Group\n"
     ]
    }
   ],
   "source": [
    "print(instruments['HYDRA']['long_name'],'\\n')\n",
    "print(instruments['HYDRA']['description'])"
   ]
  },
  {
   "cell_type": "markdown",
   "metadata": {},
   "source": [
    "unlike a regular python dictionary, it is impossible to add new keywords. if you try, an error will be thrown and you will be instructed to contact GCMD directly"
   ]
  },
  {
   "cell_type": "code",
   "execution_count": 9,
   "metadata": {},
   "outputs": [
    {
     "ename": "ZeroDivisionError",
     "evalue": "To add keywords, please contact GCMD directly.",
     "output_type": "error",
     "traceback": [
      "\u001b[1;31m---------------------------------------------------------------------------\u001b[0m",
      "\u001b[1;31mZeroDivisionError\u001b[0m                         Traceback (most recent call last)",
      "\u001b[1;32m<ipython-input-9-e0e1ae580311>\u001b[0m in \u001b[0;36m<module>\u001b[1;34m\u001b[0m\n\u001b[1;32m----> 1\u001b[1;33m \u001b[0minstruments\u001b[0m\u001b[1;33m[\u001b[0m\u001b[1;34m'new keyword'\u001b[0m\u001b[1;33m]\u001b[0m \u001b[1;33m=\u001b[0m \u001b[1;34m'my new keyword'\u001b[0m\u001b[1;33m\u001b[0m\u001b[1;33m\u001b[0m\u001b[0m\n\u001b[0m",
      "\u001b[1;32m~\\Desktop\\New folder\\NSSTC\\ADMG Project\\GCMD\\gcmd_tools.py\u001b[0m in \u001b[0;36m__setitem__\u001b[1;34m(self, key, value)\u001b[0m\n\u001b[0;32m     53\u001b[0m             \u001b[0msuper\u001b[0m\u001b[1;33m(\u001b[0m\u001b[0mgcmdFile\u001b[0m\u001b[1;33m,\u001b[0m \u001b[0mself\u001b[0m\u001b[1;33m)\u001b[0m\u001b[1;33m.\u001b[0m\u001b[0m__setitem__\u001b[0m\u001b[1;33m(\u001b[0m\u001b[0mkey\u001b[0m\u001b[1;33m,\u001b[0m \u001b[0mvalue\u001b[0m\u001b[1;33m)\u001b[0m\u001b[1;33m\u001b[0m\u001b[1;33m\u001b[0m\u001b[0m\n\u001b[0;32m     54\u001b[0m         \u001b[1;32melse\u001b[0m\u001b[1;33m:\u001b[0m\u001b[1;33m\u001b[0m\u001b[1;33m\u001b[0m\u001b[0m\n\u001b[1;32m---> 55\u001b[1;33m             \u001b[1;32mraise\u001b[0m \u001b[0mZeroDivisionError\u001b[0m\u001b[1;33m(\u001b[0m\u001b[1;34m'To add keywords, please contact GCMD directly.'\u001b[0m\u001b[1;33m)\u001b[0m\u001b[1;33m\u001b[0m\u001b[1;33m\u001b[0m\u001b[0m\n\u001b[0m\u001b[0;32m     56\u001b[0m \u001b[1;33m\u001b[0m\u001b[0m\n\u001b[0;32m     57\u001b[0m     \u001b[1;32mdef\u001b[0m \u001b[0m__delitem__\u001b[0m\u001b[1;33m(\u001b[0m\u001b[0mself\u001b[0m\u001b[1;33m,\u001b[0m \u001b[0mkey\u001b[0m\u001b[1;33m,\u001b[0m \u001b[0mvalue\u001b[0m\u001b[1;33m)\u001b[0m\u001b[1;33m:\u001b[0m\u001b[1;33m\u001b[0m\u001b[1;33m\u001b[0m\u001b[0m\n",
      "\u001b[1;31mZeroDivisionError\u001b[0m: To add keywords, please contact GCMD directly."
     ]
    }
   ],
   "source": [
    "instruments['new keyword'] = 'my new keyword'"
   ]
  },
  {
   "cell_type": "code",
   "execution_count": null,
   "metadata": {},
   "outputs": [],
   "source": []
  }
 ],
 "metadata": {
  "kernelspec": {
   "display_name": "Python 3",
   "language": "python",
   "name": "python3"
  },
  "language_info": {
   "codemirror_mode": {
    "name": "ipython",
    "version": 3
   },
   "file_extension": ".py",
   "mimetype": "text/x-python",
   "name": "python",
   "nbconvert_exporter": "python",
   "pygments_lexer": "ipython3",
   "version": "3.6.8"
  }
 },
 "nbformat": 4,
 "nbformat_minor": 2
}
